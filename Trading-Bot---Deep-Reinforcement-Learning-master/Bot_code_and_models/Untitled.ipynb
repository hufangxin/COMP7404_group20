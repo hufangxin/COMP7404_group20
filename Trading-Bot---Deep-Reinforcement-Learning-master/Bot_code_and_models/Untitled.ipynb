{
 "cells": [
  {
   "cell_type": "code",
   "execution_count": 2,
   "metadata": {},
   "outputs": [
    {
     "name": "stdout",
     "output_type": "stream",
     "text": [
      "Collecting PrettyTable\n",
      "  Using cached https://files.pythonhosted.org/packages/5f/ab/64371af206988d7b15c8112c9c277b8eb4618397c01471e52b902a17f59c/prettytable-3.3.0-py3-none-any.whl\n",
      "Requirement already satisfied: wcwidth in /Users/hufangxin/opt/anaconda3/lib/python3.7/site-packages (from PrettyTable) (0.1.7)\n",
      "Requirement already satisfied: importlib-metadata; python_version < \"3.8\" in /Users/hufangxin/opt/anaconda3/lib/python3.7/site-packages (from PrettyTable) (4.8.1)\n",
      "Requirement already satisfied: zipp>=0.5 in /Users/hufangxin/opt/anaconda3/lib/python3.7/site-packages (from importlib-metadata; python_version < \"3.8\"->PrettyTable) (0.6.0)\n",
      "Requirement already satisfied: typing-extensions>=3.6.4; python_version < \"3.8\" in /Users/hufangxin/opt/anaconda3/lib/python3.7/site-packages (from importlib-metadata; python_version < \"3.8\"->PrettyTable) (3.10.0.2)\n",
      "Requirement already satisfied: more-itertools in /Users/hufangxin/opt/anaconda3/lib/python3.7/site-packages (from zipp>=0.5->importlib-metadata; python_version < \"3.8\"->PrettyTable) (7.2.0)\n",
      "Installing collected packages: PrettyTable\n",
      "Successfully installed PrettyTable-3.3.0\n",
      "Note: you may need to restart the kernel to use updated packages.\n"
     ]
    }
   ],
   "source": [
    "pip install PrettyTable"
   ]
  },
  {
   "cell_type": "code",
   "execution_count": 3,
   "metadata": {},
   "outputs": [
    {
     "name": "stderr",
     "output_type": "stream",
     "text": [
      "\r",
      "  0%|          | 0/800 [00:00<?, ?it/s]"
     ]
    },
    {
     "name": "stdout",
     "output_type": "stream",
     "text": [
      "Agent is using device:\tcpu\n",
      "Agent is using device:\tcpu\n",
      "Agent is using device:\tcpu\n",
      "Test nr. 1\n"
     ]
    },
    {
     "name": "stderr",
     "output_type": "stream",
     "text": [
      " 89%|████████▉ | 710/800 [00:03<00:00, 225.30it/s]\n",
      " 94%|█████████▎| 748/800 [00:01<00:00, 549.20it/s]\n",
      " 94%|█████████▎| 748/800 [00:02<00:00, 291.97it/s]\n",
      "  5%|▍         | 38/800 [00:00<00:02, 375.82it/s]"
     ]
    },
    {
     "name": "stdout",
     "output_type": "stream",
     "text": [
      "Test nr. 2\n"
     ]
    },
    {
     "name": "stderr",
     "output_type": "stream",
     "text": [
      " 93%|█████████▎| 744/800 [00:02<00:00, 329.09it/s]\n",
      " 92%|█████████▏| 732/800 [00:01<00:00, 461.91it/s]\n",
      " 97%|█████████▋| 774/800 [00:02<00:00, 317.53it/s]\n",
      "  8%|▊         | 68/800 [00:00<00:01, 665.99it/s]"
     ]
    },
    {
     "name": "stdout",
     "output_type": "stream",
     "text": [
      "Test nr. 3\n"
     ]
    },
    {
     "name": "stderr",
     "output_type": "stream",
     "text": [
      " 96%|█████████▋| 771/800 [00:01<00:00, 469.89it/s]\n",
      " 93%|█████████▎| 743/800 [00:01<00:00, 571.40it/s]\n",
      " 93%|█████████▎| 742/800 [00:02<00:00, 356.20it/s]\n",
      "  6%|▌         | 48/800 [00:00<00:01, 472.77it/s]"
     ]
    },
    {
     "name": "stdout",
     "output_type": "stream",
     "text": [
      "Test nr. 4\n"
     ]
    },
    {
     "name": "stderr",
     "output_type": "stream",
     "text": [
      " 93%|█████████▎| 743/800 [00:01<00:00, 411.34it/s]\n",
      " 86%|████████▌ | 689/800 [00:01<00:00, 589.83it/s]\n",
      " 96%|█████████▋| 771/800 [00:03<00:00, 240.13it/s]\n",
      "  6%|▌         | 44/800 [00:00<00:01, 437.24it/s]"
     ]
    },
    {
     "name": "stdout",
     "output_type": "stream",
     "text": [
      "Test nr. 5\n"
     ]
    },
    {
     "name": "stderr",
     "output_type": "stream",
     "text": [
      " 92%|█████████▏| 739/800 [00:01<00:00, 483.06it/s]\n",
      " 95%|█████████▍| 758/800 [00:01<00:00, 515.75it/s]\n",
      " 97%|█████████▋| 775/800 [00:02<00:00, 330.82it/s]\n",
      "  6%|▋         | 51/800 [00:00<00:01, 508.36it/s]"
     ]
    },
    {
     "name": "stdout",
     "output_type": "stream",
     "text": [
      "Test nr. 6\n"
     ]
    },
    {
     "name": "stderr",
     "output_type": "stream",
     "text": [
      " 94%|█████████▍| 753/800 [00:01<00:00, 416.69it/s]\n",
      " 89%|████████▉ | 714/800 [00:01<00:00, 493.58it/s]\n",
      " 96%|█████████▋| 772/800 [00:02<00:00, 362.55it/s]\n",
      "  5%|▍         | 38/800 [00:00<00:02, 374.60it/s]"
     ]
    },
    {
     "name": "stdout",
     "output_type": "stream",
     "text": [
      "Test nr. 7\n"
     ]
    },
    {
     "name": "stderr",
     "output_type": "stream",
     "text": [
      " 96%|█████████▋| 771/800 [00:02<00:00, 362.93it/s]\n",
      " 90%|█████████ | 721/800 [00:01<00:00, 476.45it/s]\n",
      " 97%|█████████▋| 774/800 [00:02<00:00, 359.37it/s]\n",
      "  6%|▌         | 49/800 [00:00<00:01, 488.34it/s]"
     ]
    },
    {
     "name": "stdout",
     "output_type": "stream",
     "text": [
      "Test nr. 8\n"
     ]
    },
    {
     "name": "stderr",
     "output_type": "stream",
     "text": [
      " 93%|█████████▎| 741/800 [00:02<00:00, 364.29it/s]\n",
      " 92%|█████████▏| 732/800 [00:01<00:00, 542.17it/s]\n",
      " 96%|█████████▌| 764/800 [00:02<00:00, 351.37it/s]\n",
      "  5%|▍         | 37/800 [00:00<00:02, 361.59it/s]"
     ]
    },
    {
     "name": "stdout",
     "output_type": "stream",
     "text": [
      "Test nr. 9\n"
     ]
    },
    {
     "name": "stderr",
     "output_type": "stream",
     "text": [
      " 91%|█████████ | 726/800 [00:02<00:00, 338.62it/s]\n",
      " 94%|█████████▍| 756/800 [00:00<00:00, 1035.34it/s]\n",
      " 87%|████████▋ | 696/800 [00:00<00:00, 884.02it/s]\n",
      "  6%|▌         | 48/800 [00:00<00:01, 466.64it/s]"
     ]
    },
    {
     "name": "stdout",
     "output_type": "stream",
     "text": [
      "Test nr. 10\n"
     ]
    },
    {
     "name": "stderr",
     "output_type": "stream",
     "text": [
      " 91%|█████████ | 728/800 [00:01<00:00, 412.08it/s]\n",
      " 91%|█████████ | 725/800 [00:00<00:00, 949.48it/s] \n",
      " 92%|█████████▏| 737/800 [00:01<00:00, 388.31it/s]\n",
      "  4%|▍         | 34/800 [00:00<00:02, 329.71it/s]"
     ]
    },
    {
     "name": "stdout",
     "output_type": "stream",
     "text": [
      "Agent is using device:\tcpu\n",
      "Agent is using device:\tcpu\n",
      "Agent is using device:\tcpu\n",
      "Test nr. 1\n"
     ]
    },
    {
     "name": "stderr",
     "output_type": "stream",
     "text": [
      " 95%|█████████▌| 761/800 [00:01<00:00, 399.41it/s]\n",
      " 91%|█████████▏| 730/800 [00:01<00:00, 694.69it/s]\n",
      " 88%|████████▊ | 703/800 [00:01<00:00, 696.64it/s]\n",
      "  9%|▊         | 69/800 [00:00<00:01, 687.33it/s]"
     ]
    },
    {
     "name": "stdout",
     "output_type": "stream",
     "text": [
      "Test nr. 2\n"
     ]
    },
    {
     "name": "stderr",
     "output_type": "stream",
     "text": [
      " 89%|████████▉ | 710/800 [00:02<00:00, 293.49it/s]\n",
      " 90%|█████████ | 721/800 [00:01<00:00, 649.29it/s]\n",
      " 96%|█████████▌| 765/800 [00:01<00:00, 746.36it/s]\n",
      "  5%|▌         | 43/800 [00:00<00:01, 427.77it/s]"
     ]
    },
    {
     "name": "stdout",
     "output_type": "stream",
     "text": [
      "Test nr. 3\n"
     ]
    },
    {
     "name": "stderr",
     "output_type": "stream",
     "text": [
      " 91%|█████████ | 729/800 [00:02<00:00, 342.57it/s]\n",
      " 94%|█████████▍| 755/800 [00:00<00:00, 801.73it/s]\n",
      " 91%|█████████ | 726/800 [00:01<00:00, 604.61it/s]\n",
      "  6%|▌         | 46/800 [00:00<00:01, 454.91it/s]"
     ]
    },
    {
     "name": "stdout",
     "output_type": "stream",
     "text": [
      "Test nr. 4\n"
     ]
    },
    {
     "name": "stderr",
     "output_type": "stream",
     "text": [
      " 95%|█████████▍| 759/800 [00:01<00:00, 439.12it/s]\n",
      " 94%|█████████▎| 748/800 [00:00<00:00, 784.16it/s]\n",
      " 92%|█████████▏| 732/800 [00:01<00:00, 681.04it/s]\n",
      "  6%|▌         | 44/800 [00:00<00:01, 433.86it/s]"
     ]
    },
    {
     "name": "stdout",
     "output_type": "stream",
     "text": [
      "Test nr. 5\n"
     ]
    },
    {
     "name": "stderr",
     "output_type": "stream",
     "text": [
      " 96%|█████████▋| 771/800 [00:02<00:00, 274.85it/s]\n",
      " 90%|█████████ | 721/800 [00:00<00:00, 836.46it/s]\n",
      " 94%|█████████▍| 756/800 [00:01<00:00, 656.05it/s]\n",
      "  4%|▍         | 31/800 [00:00<00:02, 309.14it/s]"
     ]
    },
    {
     "name": "stdout",
     "output_type": "stream",
     "text": [
      "Test nr. 6\n"
     ]
    },
    {
     "name": "stderr",
     "output_type": "stream",
     "text": [
      " 94%|█████████▎| 749/800 [00:02<00:00, 374.23it/s]\n",
      " 96%|█████████▌| 767/800 [00:00<00:00, 835.44it/s]\n",
      " 92%|█████████▏| 736/800 [00:01<00:00, 629.00it/s]\n",
      "  5%|▍         | 38/800 [00:00<00:02, 370.38it/s]"
     ]
    },
    {
     "name": "stdout",
     "output_type": "stream",
     "text": [
      "Test nr. 7\n"
     ]
    },
    {
     "name": "stderr",
     "output_type": "stream",
     "text": [
      " 93%|█████████▎| 743/800 [00:01<00:00, 476.11it/s]\n",
      " 92%|█████████▏| 734/800 [00:01<00:00, 602.03it/s]\n",
      " 96%|█████████▋| 772/800 [00:01<00:00, 505.85it/s]\n",
      "  4%|▍         | 34/800 [00:00<00:02, 330.90it/s]"
     ]
    },
    {
     "name": "stdout",
     "output_type": "stream",
     "text": [
      "Test nr. 8\n"
     ]
    },
    {
     "name": "stderr",
     "output_type": "stream",
     "text": [
      " 92%|█████████▏| 732/800 [00:01<00:00, 417.21it/s]\n",
      " 91%|█████████ | 727/800 [00:01<00:00, 478.75it/s]\n",
      " 93%|█████████▎| 742/800 [00:01<00:00, 637.13it/s]\n",
      "  6%|▌         | 48/800 [00:00<00:01, 477.37it/s]"
     ]
    },
    {
     "name": "stdout",
     "output_type": "stream",
     "text": [
      "Test nr. 9\n"
     ]
    },
    {
     "name": "stderr",
     "output_type": "stream",
     "text": [
      " 94%|█████████▍| 754/800 [00:02<00:00, 345.91it/s]\n",
      " 92%|█████████▏| 739/800 [00:01<00:00, 669.53it/s]\n",
      " 89%|████████▉ | 714/800 [00:01<00:00, 648.93it/s]\n",
      "  7%|▋         | 53/800 [00:00<00:01, 518.69it/s]"
     ]
    },
    {
     "name": "stdout",
     "output_type": "stream",
     "text": [
      "Test nr. 10\n"
     ]
    },
    {
     "name": "stderr",
     "output_type": "stream",
     "text": [
      " 90%|█████████ | 722/800 [00:01<00:00, 492.32it/s]\n",
      " 96%|█████████▌| 767/800 [00:01<00:00, 588.45it/s]\n",
      " 96%|█████████▌| 767/800 [00:01<00:00, 617.93it/s]\n"
     ]
    },
    {
     "name": "stdout",
     "output_type": "stream",
     "text": [
      "+----------------+-----------------+----------------+----------------+-----------+\n",
      "| Trading System | Avg. Return (%) | Max Return (%) | Min Return (%) | Std. Dev. |\n",
      "+----------------+-----------------+----------------+----------------+-----------+\n",
      "|   ProfitDQN    |       2.49      |     42.37      |     -2.94      |    4.31   |\n",
      "|   SharpeDQN    |       0.88      |     58.98      |     -19.66     |    4.75   |\n",
      "|   ProfitDDQN   |       2.33      |     95.29      |     -1.85      |    7.45   |\n",
      "|   SharpeDDQN   |       0.53      |     59.53      |     -8.82      |    3.50   |\n",
      "|  ProfitD-DDQN  |       2.52      |     46.35      |     -2.72      |    4.75   |\n",
      "|  SharpeD-DDQN  |       0.00      |      1.83      |     -0.49      |    0.08   |\n",
      "+----------------+-----------------+----------------+----------------+-----------+\n"
     ]
    },
    {
     "data": {
      "text/plain": [
       "<Figure size 640x480 with 6 Axes>"
      ]
     },
     "metadata": {},
     "output_type": "display_data"
    }
   ],
   "source": [
    "from prettytable import PrettyTable as PrettyTable\n",
    "from utils import load_data, print_stats, plot_multiple_conf_interval\n",
    "import random\n",
    "import os\n",
    "#from google.colab import drive\n",
    "#drive.mount('/content/drive')\n",
    "from Environment import Environment\n",
    "from Agent import Agent\n",
    "\n",
    "\n",
    "\n",
    "def main():\n",
    "    #----------------------------- LOAD DATA ---------------------------------------------------------------------------\n",
    "    path = ''\n",
    "    df = load_data(path)\n",
    "\n",
    "\n",
    "    # ----------------------------- AGENTS COMPARISON --------------------------------\n",
    "    REPLAY_MEM_SIZE = 10000\n",
    "    BATCH_SIZE = 40\n",
    "    GAMMA = 0.98\n",
    "    EPS_START = 1\n",
    "    EPS_END = 0.12\n",
    "    EPS_STEPS = 300\n",
    "    LEARNING_RATE = 0.001\n",
    "    INPUT_DIM = 24\n",
    "    HIDDEN_DIM = 120\n",
    "    ACTION_NUMBER = 3\n",
    "    TARGET_UPDATE = 10\n",
    "    N_TEST = 10\n",
    "    TRADING_PERIOD = 4000\n",
    "    index = random.randrange(len(df) - TRADING_PERIOD - 1)\n",
    "\n",
    "    dqn_agent = Agent(REPLAY_MEM_SIZE,\n",
    "                      BATCH_SIZE,\n",
    "                      GAMMA,\n",
    "                      EPS_START,\n",
    "                      EPS_END,\n",
    "                      EPS_STEPS,\n",
    "                      LEARNING_RATE,\n",
    "                      INPUT_DIM,\n",
    "                      HIDDEN_DIM,\n",
    "                      ACTION_NUMBER,\n",
    "                      TARGET_UPDATE,\n",
    "                      MODEL='dqn',\n",
    "                      DOUBLE=False)\n",
    "\n",
    "    double_dqn_agent = Agent(REPLAY_MEM_SIZE,\n",
    "                             BATCH_SIZE,\n",
    "                             GAMMA,\n",
    "                             EPS_START,\n",
    "                             EPS_END,\n",
    "                             EPS_STEPS,\n",
    "                             LEARNING_RATE,\n",
    "                             INPUT_DIM,\n",
    "                             HIDDEN_DIM,\n",
    "                             ACTION_NUMBER,\n",
    "                             TARGET_UPDATE,\n",
    "                             MODEL='dqn',\n",
    "                             DOUBLE=True)\n",
    "\n",
    "    dueling_double_dqn_agent = Agent(REPLAY_MEM_SIZE,\n",
    "                                     BATCH_SIZE,\n",
    "                                     GAMMA,\n",
    "                                     EPS_START,\n",
    "                                     EPS_END,\n",
    "                                     EPS_STEPS,\n",
    "                                     LEARNING_RATE,\n",
    "                                     INPUT_DIM,\n",
    "                                     HIDDEN_DIM,\n",
    "                                     ACTION_NUMBER,\n",
    "                                     TARGET_UPDATE,\n",
    "                                     MODEL='ddqn',\n",
    "                                     DOUBLE=True)\n",
    "\n",
    "    train_size = int(TRADING_PERIOD * 0.8)\n",
    "    profit_dqn_return = []\n",
    "    sharpe_dqn_return = []\n",
    "    profit_ddqn_return = []\n",
    "    sharpe_ddqn_return = []\n",
    "    profit_dueling_ddqn_return = []\n",
    "    sharpe_dueling_ddqn_return = []\n",
    "\n",
    "    #profit_train_env = Environment(df[index:index + train_size], \"profit\")\n",
    "    sharpe_train_env = Environment(df[index:index + train_size], \"sr\")\n",
    "\n",
    "    # ProfitDQN\n",
    "    #cr_profit_dqn = dqn_agent.train(profit_train_env, path)\n",
    "    #profit_train_env.reset()\n",
    "\n",
    "    # Profit Double DQN\n",
    "    #cr_profit_ddqn = double_dqn_agent.train(profit_train_env, path)\n",
    "    #profit_train_env.reset()\n",
    "\n",
    "    # Profit Dueling Double DQN\n",
    "    #cr_profit_dueling_ddqn = dueling_double_dqn_agent.train(profit_train_env, path)\n",
    "    #profit_train_env.reset()\n",
    "\n",
    "    i = 0\n",
    "    while i < N_TEST:\n",
    "        print(\"Test nr. %s\" % str(i+1))\n",
    "        index = random.randrange(len(df) - TRADING_PERIOD - 1)\n",
    "\n",
    "        profit_test_env = Environment(df[index + train_size:index + TRADING_PERIOD], \"profit\")\n",
    "\n",
    "        # ProfitDQN\n",
    "        cr_profit_dqn_test, _ = dqn_agent.test(profit_test_env, model_name=\"profit_reward_dqn_model\" , path=path)\n",
    "        profit_dqn_return.append(profit_test_env.cumulative_return)\n",
    "        profit_test_env.reset()\n",
    "\n",
    "        # Profit Double DQN\n",
    "        cr_profit_ddqn_test, _ = double_dqn_agent.test(profit_test_env, model_name=\"profit_reward_double_dqn_model\" , path=path)\n",
    "        profit_ddqn_return.append(profit_test_env.cumulative_return)\n",
    "        profit_test_env.reset()\n",
    "\n",
    "        # Profit Dueling Double DQN\n",
    "        cr_profit_dueling_ddqn_test, _ = dueling_double_dqn_agent.test(profit_test_env, model_name=\"profit_reward_double_ddqn_model\" , path=path)\n",
    "        profit_dueling_ddqn_return.append(profit_test_env.cumulative_return)\n",
    "        profit_test_env.reset()\n",
    "\n",
    "        i += 1\n",
    "\n",
    "    dqn_agent = Agent(REPLAY_MEM_SIZE,\n",
    "                      BATCH_SIZE,\n",
    "                      GAMMA,\n",
    "                      EPS_START,\n",
    "                      EPS_END,\n",
    "                      EPS_STEPS,\n",
    "                      LEARNING_RATE,\n",
    "                      INPUT_DIM,\n",
    "                      HIDDEN_DIM,\n",
    "                      ACTION_NUMBER,\n",
    "                      TARGET_UPDATE,\n",
    "                      MODEL='dqn',\n",
    "                      DOUBLE=False)\n",
    "\n",
    "    double_dqn_agent = Agent(REPLAY_MEM_SIZE,\n",
    "                             BATCH_SIZE,\n",
    "                             GAMMA,\n",
    "                             EPS_START,\n",
    "                             EPS_END,\n",
    "                             EPS_STEPS,\n",
    "                             LEARNING_RATE,\n",
    "                             INPUT_DIM,\n",
    "                             HIDDEN_DIM,\n",
    "                             ACTION_NUMBER,\n",
    "                             TARGET_UPDATE,\n",
    "                             MODEL='dqn',\n",
    "                             DOUBLE=True)\n",
    "\n",
    "    dueling_double_dqn_agent = Agent(REPLAY_MEM_SIZE,\n",
    "                                     BATCH_SIZE,\n",
    "                                     GAMMA,\n",
    "                                     EPS_START,\n",
    "                                     EPS_END,\n",
    "                                     EPS_STEPS,\n",
    "                                     LEARNING_RATE,\n",
    "                                     INPUT_DIM,\n",
    "                                     HIDDEN_DIM,\n",
    "                                     ACTION_NUMBER,\n",
    "                                     TARGET_UPDATE,\n",
    "                                     MODEL='ddqn',\n",
    "                                     DOUBLE=True)\n",
    "\n",
    "    # SharpeDQN\n",
    "    #cr_sharpe_dqn = dqn_agent.train(sharpe_train_env, path)\n",
    "    #sharpe_train_env.reset()\n",
    "\n",
    "    # Sharpe Double DQN\n",
    "    #cr_sharpe_ddqn = double_dqn_agent.train(sharpe_train_env, path)\n",
    "    #sharpe_train_env.reset()\n",
    "\n",
    "    # Sharpe Dueling Double DQN\n",
    "    #cr_sharpe_dueling_ddqn = dueling_double_dqn_agent.train(sharpe_train_env, path)\n",
    "    #sharpe_train_env.reset()\n",
    "\n",
    "    i = 0\n",
    "    while i < N_TEST:\n",
    "        print(\"Test nr. %s\"%str(i+1))\n",
    "        index = random.randrange(len(df) - TRADING_PERIOD - 1)\n",
    "\n",
    "        sharpe_test_env = Environment(df[index + train_size:index + TRADING_PERIOD], \"sr\")\n",
    "\n",
    "        # SharpeDQN\n",
    "        cr_sharpe_dqn_test, _ = dqn_agent.test(sharpe_test_env, model_name=\"sr_reward_dqn_model\", path=path)\n",
    "        sharpe_dqn_return.append(sharpe_test_env.cumulative_return)\n",
    "        sharpe_test_env.reset()\n",
    "\n",
    "        # Sharpe Double DQN\n",
    "        cr_sharpe_ddqn_test, _ = double_dqn_agent.test(sharpe_test_env, model_name=\"sr_reward_double_dqn_model\"  , path=path)\n",
    "        sharpe_ddqn_return.append(sharpe_test_env.cumulative_return)\n",
    "        sharpe_test_env.reset()\n",
    "\n",
    "        # Sharpe Dueling Double DQN\n",
    "        cr_sharpe_dueling_ddqn_test, _ = dueling_double_dqn_agent.test(sharpe_test_env, model_name=\"sr_reward_double_ddqn_model\" , path=path)\n",
    "        sharpe_dueling_ddqn_return.append(sharpe_test_env.cumulative_return)\n",
    "        sharpe_test_env.reset()\n",
    "\n",
    "        i += 1\n",
    "\n",
    "    #--------------------------------------- Print Test Stats ---------------------------------------------------------\n",
    "    t = PrettyTable([\"Trading System\", \"Avg. Return (%)\", \"Max Return (%)\", \"Min Return (%)\", \"Std. Dev.\"])\n",
    "    print_stats(\"ProfitDQN\", profit_dqn_return, t)\n",
    "    print_stats(\"SharpeDQN\", sharpe_dqn_return, t)\n",
    "    print_stats(\"ProfitDDQN\", profit_ddqn_return, t)\n",
    "    print_stats(\"SharpeDDQN\", sharpe_ddqn_return, t)\n",
    "    print_stats(\"ProfitD-DDQN\", profit_dueling_ddqn_return, t)\n",
    "    print_stats(\"SharpeD-DDQN\", sharpe_dueling_ddqn_return, t)\n",
    "\n",
    "    print(t)\n",
    "    plot_multiple_conf_interval([\"ProfitDQN\", \"SharpeDQN\", \"ProfitDDQN\",\"SharpeDDQN\",\"ProfitD-DDQN\",\"SharpeD-DDQN\"],\n",
    "                                [profit_dqn_return,sharpe_dqn_return,profit_ddqn_return,sharpe_ddqn_return,\n",
    "                                 profit_dueling_ddqn_return,sharpe_dueling_ddqn_return])\n",
    "\n",
    "\n",
    "\n",
    "if __name__ == \"__main__\":\n",
    "    main()"
   ]
  },
  {
   "cell_type": "code",
   "execution_count": null,
   "metadata": {},
   "outputs": [],
   "source": []
  }
 ],
 "metadata": {
  "kernelspec": {
   "display_name": "Python 3",
   "language": "python",
   "name": "python3"
  },
  "language_info": {
   "codemirror_mode": {
    "name": "ipython",
    "version": 3
   },
   "file_extension": ".py",
   "mimetype": "text/x-python",
   "name": "python",
   "nbconvert_exporter": "python",
   "pygments_lexer": "ipython3",
   "version": "3.7.4"
  }
 },
 "nbformat": 4,
 "nbformat_minor": 2
}
